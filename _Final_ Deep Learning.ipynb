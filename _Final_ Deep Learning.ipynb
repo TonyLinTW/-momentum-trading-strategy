{
 "cells": [
  {
   "cell_type": "markdown",
   "metadata": {},
   "source": [
    "## (Final) Deep Learning"
   ]
  },
  {
   "cell_type": "code",
   "execution_count": 3,
   "metadata": {},
   "outputs": [],
   "source": [
    "import pandas as pd\n",
    "import numpy as np\n",
    "import matplotlib.pylab as plt\n",
    "%matplotlib inline\n",
    "from datetime import datetime\n",
    "from sklearn.linear_model import LogisticRegression"
   ]
  },
  {
   "cell_type": "code",
   "execution_count": 4,
   "metadata": {},
   "outputs": [],
   "source": [
    "data=pd.read_csv(\"./final_project_data.csv\")\n",
    "data=data.dropna()\n",
    "data.index=range(len(data))"
   ]
  },
  {
   "cell_type": "code",
   "execution_count": 5,
   "metadata": {},
   "outputs": [
    {
     "data": {
      "text/plain": [
       "(3547259, 43)"
      ]
     },
     "execution_count": 5,
     "metadata": {},
     "output_type": "execute_result"
    }
   ],
   "source": [
    "data.shape"
   ]
  },
  {
   "cell_type": "code",
   "execution_count": 20,
   "metadata": {},
   "outputs": [],
   "source": [
    "i=2012\n",
    "train=data[(data.date<=int(str(i)+'1231'))&(data.date>=int(str(i-4)+'0101'))]\n",
    "train=train.dropna()\n",
    "train.index=range(len(train))\n",
    "    #globals()['train_{}'.format(i)]=train.copy()\n",
    "    \n",
    "test=data[(data.date<=int(str(i+1)+'1231'))&(data.date>=int(str(i+1)+'0101'))]\n",
    "test=test.dropna()\n",
    "test.index=range(len(test))\n",
    "    #globals()['test_{}'.format(i)]=test.copy() \n",
    "    \n",
    "X_train=np.asarray(train.loc[:,'ret_raw_norm_lag_21':'isJan'])\n",
    "Y_train=np.asarray(train.loc[:,'target'])\n",
    "    \n",
    "X_test=np.asarray(test.loc[:,'ret_raw_norm_lag_21':'isJan'])\n",
    "Y_test=np.asarray(test.loc[:,'target'])\n",
    "\n",
    "a=X_train.shape[0]*1/10\n",
    "X_valid, X_train = X_train[:a], X_train[a:]\n",
    "Y_valid, Y_train = Y_train[:a], Y_train[a:]\n",
    "\n",
    "\n"
   ]
  },
  {
   "cell_type": "code",
   "execution_count": 23,
   "metadata": {},
   "outputs": [
    {
     "data": {
      "text/plain": [
       "(1468649, 33)"
      ]
     },
     "execution_count": 23,
     "metadata": {},
     "output_type": "execute_result"
    }
   ],
   "source": [
    "X_train.shape"
   ]
  },
  {
   "cell_type": "markdown",
   "metadata": {},
   "source": [
    "## Deep Learning\n",
    "- mimic the paper's neural networks"
   ]
  },
  {
   "cell_type": "code",
   "execution_count": 8,
   "metadata": {},
   "outputs": [],
   "source": [
    "import tensorflow as tf\n",
    "from tensorflow.python.framework import ops"
   ]
  },
  {
   "cell_type": "code",
   "execution_count": 9,
   "metadata": {},
   "outputs": [],
   "source": [
    "# to make this notebook's output stable across runs\n",
    "def reset_graph(seed=42):\n",
    "    tf.reset_default_graph()\n",
    "    tf.set_random_seed(seed)\n",
    "    np.random.seed(seed)\n",
    "\n",
    "# To plot pretty figures\n",
    "%matplotlib inline\n",
    "import matplotlib\n",
    "import matplotlib.pyplot as plt\n"
   ]
  },
  {
   "cell_type": "code",
   "execution_count": 10,
   "metadata": {},
   "outputs": [],
   "source": [
    "def logit(z):\n",
    "    return 1 / (1 + np.exp(-z))"
   ]
  },
  {
   "cell_type": "code",
   "execution_count": 11,
   "metadata": {},
   "outputs": [],
   "source": [
    "def shuffle_batch(X, y, batch_size):\n",
    "    rnd_idx = np.random.permutation(len(X))\n",
    "    n_batches = len(X) // batch_size\n",
    "    for batch_idx in np.array_split(rnd_idx, n_batches):\n",
    "        X_batch, y_batch = X[batch_idx], y[batch_idx]\n",
    "        yield X_batch, y_batch"
   ]
  },
  {
   "cell_type": "code",
   "execution_count": 12,
   "metadata": {},
   "outputs": [],
   "source": [
    "def relu(z, alpha=1):\n",
    "        return np.where(z<0, 0, z)"
   ]
  },
  {
   "cell_type": "code",
   "execution_count": 73,
   "metadata": {},
   "outputs": [],
   "source": [
    "def softmax(x, axis=None):\n",
    "    x = x - x.max(axis=axis, keepdims=True)\n",
    "    y = np.exp(x)\n",
    "    return y / y.sum(axis=axis, keepdims=True)"
   ]
  },
  {
   "cell_type": "markdown",
   "metadata": {},
   "source": [
    "### Tuning"
   ]
  },
  {
   "cell_type": "markdown",
   "metadata": {},
   "source": [
    "#### Test 1\n",
    "- tuning batch size"
   ]
  },
  {
   "cell_type": "code",
   "execution_count": 13,
   "metadata": {},
   "outputs": [
    {
     "name": "stdout",
     "output_type": "stream",
     "text": [
      "WARNING:tensorflow:From <ipython-input-13-340cca557928>:34: dense (from tensorflow.python.layers.core) is deprecated and will be removed in a future version.\n",
      "Instructions for updating:\n",
      "Use keras.layers.dense instead.\n",
      "WARNING:tensorflow:From /Users/tonylin/anaconda2/lib/python2.7/site-packages/tensorflow/python/framework/op_def_library.py:263: colocate_with (from tensorflow.python.framework.ops) is deprecated and will be removed in a future version.\n",
      "Instructions for updating:\n",
      "Colocations handled automatically by placer.\n",
      "WARNING:tensorflow:From <ipython-input-13-340cca557928>:35: batch_normalization (from tensorflow.python.layers.normalization) is deprecated and will be removed in a future version.\n",
      "Instructions for updating:\n",
      "Use keras.layers.batch_normalization instead.\n",
      "WARNING:tensorflow:From /Users/tonylin/anaconda2/lib/python2.7/site-packages/tensorflow/python/ops/math_ops.py:3066: to_int32 (from tensorflow.python.ops.math_ops) is deprecated and will be removed in a future version.\n",
      "Instructions for updating:\n",
      "Use tf.cast instead.\n"
     ]
    }
   ],
   "source": [
    "from functools import partial\n",
    "\n",
    "reset_graph()\n",
    "\n",
    "n_inputs = 33  # data\n",
    "n_hidden1 = 40\n",
    "n_hidden2 = 4\n",
    "n_hidden3 = 50\n",
    "n_outputs = 2\n",
    "\n",
    "n_epochs = 5\n",
    "batch_size = 32\n",
    "batch_norm_momentum = 0.9\n",
    "\n",
    "learning_rate = 0.01\n",
    "\n",
    "X = tf.placeholder(tf.float32, shape=(None, n_inputs), name=\"X\")\n",
    "y = tf.placeholder(tf.int32, shape=(None), name=\"y\")\n",
    "\n",
    "training = tf.placeholder_with_default(False, shape=(), name='training')\n",
    "\n",
    "with tf.name_scope(\"dnn\"):\n",
    "    he_init = tf.variance_scaling_initializer()\n",
    "\n",
    "    my_batch_norm_layer = partial(\n",
    "            tf.layers.batch_normalization,\n",
    "            training=training,\n",
    "            momentum=batch_norm_momentum)\n",
    "\n",
    "    my_dense_layer = partial(\n",
    "            tf.layers.dense,\n",
    "            kernel_initializer=he_init)\n",
    "\n",
    "    hidden1 = my_dense_layer(X, n_hidden1, name=\"hidden1\")\n",
    "    bn1 = tf.nn.relu(my_batch_norm_layer(hidden1))\n",
    "    hidden2 = my_dense_layer(bn1, n_hidden2, name=\"hidden2\")\n",
    "    bn2 = tf.nn.relu(my_batch_norm_layer(hidden2))\n",
    "    hidden3 = my_dense_layer(bn2, n_hidden3, name=\"hidden3\")\n",
    "    bn3 = tf.nn.relu(my_batch_norm_layer(hidden3))\n",
    "    \n",
    "    \n",
    "    \n",
    "    logits_before_bn = my_dense_layer(bn3, n_outputs, name=\"outputs\")\n",
    "    logits = my_batch_norm_layer(logits_before_bn)\n",
    "\n",
    "with tf.name_scope(\"loss\"):\n",
    "    xentropy = tf.nn.sparse_softmax_cross_entropy_with_logits(labels=y, logits=logits)\n",
    "    loss = tf.reduce_mean(xentropy, name=\"loss\")\n",
    "\n",
    "with tf.name_scope(\"train\"):\n",
    "    optimizer = tf.train.AdamOptimizer(learning_rate=learning_rate)\n",
    "    #optimizer = tf.train.GradientDescentOptimizer(learning_rate)\n",
    "    training_op = optimizer.minimize(loss)\n",
    "\n",
    "with tf.name_scope(\"eval\"):\n",
    "    correct = tf.nn.in_top_k(logits, y, 1)\n",
    "    accuracy = tf.reduce_mean(tf.cast(correct, tf.float32))\n",
    "    \n",
    "init = tf.global_variables_initializer()\n",
    "saver = tf.train.Saver()"
   ]
  },
  {
   "cell_type": "code",
   "execution_count": 24,
   "metadata": {},
   "outputs": [
    {
     "name": "stdout",
     "output_type": "stream",
     "text": [
      "(0, 'Validation accuracy:', 0.5048075)\n",
      "(1, 'Validation accuracy:', 0.5019334)\n",
      "(2, 'Validation accuracy:', 0.50542027)\n",
      "(3, 'Validation accuracy:', 0.50436014)\n",
      "(4, 'Validation accuracy:', 0.50506485)\n"
     ]
    }
   ],
   "source": [
    "extra_update_ops = tf.get_collection(tf.GraphKeys.UPDATE_OPS)\n",
    "\n",
    "with tf.Session() as sess:\n",
    "    init.run()\n",
    "    for epoch in range(n_epochs):\n",
    "        for X_batch, y_batch in shuffle_batch(X_train, Y_train, batch_size):\n",
    "            sess.run([training_op, extra_update_ops],\n",
    "                     feed_dict={training: True, X: X_batch, y: y_batch})\n",
    "        accuracy_val = accuracy.eval(feed_dict={X: X_valid, y: Y_valid})\n",
    "        print(epoch, \"Validation accuracy:\", accuracy_val)\n"
   ]
  },
  {
   "cell_type": "markdown",
   "metadata": {},
   "source": [
    "#### Test 2\n",
    "- tuning batch size"
   ]
  },
  {
   "cell_type": "code",
   "execution_count": 25,
   "metadata": {},
   "outputs": [],
   "source": [
    "from functools import partial\n",
    "\n",
    "reset_graph()\n",
    "\n",
    "n_inputs = 33  # data\n",
    "n_hidden1 = 40\n",
    "n_hidden2 = 4\n",
    "n_hidden3 = 50\n",
    "n_outputs = 2\n",
    "\n",
    "n_epochs = 5\n",
    "batch_size = 128\n",
    "batch_norm_momentum = 0.9\n",
    "\n",
    "learning_rate = 0.01\n",
    "\n",
    "X = tf.placeholder(tf.float32, shape=(None, n_inputs), name=\"X\")\n",
    "y = tf.placeholder(tf.int32, shape=(None), name=\"y\")\n",
    "\n",
    "training = tf.placeholder_with_default(False, shape=(), name='training')\n",
    "\n",
    "with tf.name_scope(\"dnn\"):\n",
    "    he_init = tf.variance_scaling_initializer()\n",
    "\n",
    "    my_batch_norm_layer = partial(\n",
    "            tf.layers.batch_normalization,\n",
    "            training=training,\n",
    "            momentum=batch_norm_momentum)\n",
    "\n",
    "    my_dense_layer = partial(\n",
    "            tf.layers.dense,\n",
    "            kernel_initializer=he_init)\n",
    "\n",
    "    hidden1 = my_dense_layer(X, n_hidden1, name=\"hidden1\")\n",
    "    bn1 = tf.nn.relu(my_batch_norm_layer(hidden1))\n",
    "    hidden2 = my_dense_layer(bn1, n_hidden2, name=\"hidden2\")\n",
    "    bn2 = tf.nn.relu(my_batch_norm_layer(hidden2))\n",
    "    hidden3 = my_dense_layer(bn2, n_hidden3, name=\"hidden3\")\n",
    "    bn3 = tf.nn.relu(my_batch_norm_layer(hidden3))\n",
    "    \n",
    "    \n",
    "    \n",
    "    logits_before_bn = my_dense_layer(bn3, n_outputs, name=\"outputs\")\n",
    "    logits = my_batch_norm_layer(logits_before_bn)\n",
    "\n",
    "with tf.name_scope(\"loss\"):\n",
    "    xentropy = tf.nn.sparse_softmax_cross_entropy_with_logits(labels=y, logits=logits)\n",
    "    loss = tf.reduce_mean(xentropy, name=\"loss\")\n",
    "\n",
    "with tf.name_scope(\"train\"):\n",
    "    optimizer = tf.train.AdamOptimizer(learning_rate=learning_rate)\n",
    "    #optimizer = tf.train.GradientDescentOptimizer(learning_rate)\n",
    "    training_op = optimizer.minimize(loss)\n",
    "\n",
    "with tf.name_scope(\"eval\"):\n",
    "    correct = tf.nn.in_top_k(logits, y, 1)\n",
    "    accuracy = tf.reduce_mean(tf.cast(correct, tf.float32))\n",
    "    \n",
    "init = tf.global_variables_initializer()\n",
    "saver = tf.train.Saver()"
   ]
  },
  {
   "cell_type": "code",
   "execution_count": 26,
   "metadata": {},
   "outputs": [
    {
     "name": "stdout",
     "output_type": "stream",
     "text": [
      "(0, 'Validation accuracy:', 0.5058186)\n",
      "(1, 'Validation accuracy:', 0.4981585)\n",
      "(2, 'Validation accuracy:', 0.5083557)\n",
      "(3, 'Validation accuracy:', 0.5000092)\n",
      "(4, 'Validation accuracy:', 0.5069952)\n"
     ]
    }
   ],
   "source": [
    "extra_update_ops = tf.get_collection(tf.GraphKeys.UPDATE_OPS)\n",
    "\n",
    "with tf.Session() as sess:\n",
    "    init.run()\n",
    "    for epoch in range(n_epochs):\n",
    "        for X_batch, y_batch in shuffle_batch(X_train, Y_train, batch_size):\n",
    "            sess.run([training_op, extra_update_ops],\n",
    "                     feed_dict={training: True, X: X_batch, y: y_batch})\n",
    "        accuracy_val = accuracy.eval(feed_dict={X: X_valid, y: Y_valid})\n",
    "        print(epoch, \"Validation accuracy:\", accuracy_val)"
   ]
  },
  {
   "cell_type": "markdown",
   "metadata": {},
   "source": [
    "#### Test 3\n",
    "- tuning learning rate"
   ]
  },
  {
   "cell_type": "code",
   "execution_count": 29,
   "metadata": {},
   "outputs": [],
   "source": [
    "from functools import partial\n",
    "\n",
    "reset_graph()\n",
    "\n",
    "n_inputs = 33  # data\n",
    "n_hidden1 = 40\n",
    "n_hidden2 = 4\n",
    "n_hidden3 = 50\n",
    "n_outputs = 2\n",
    "\n",
    "n_epochs = 5\n",
    "batch_size = 32\n",
    "batch_norm_momentum = 0.9\n",
    "\n",
    "learning_rate = 0.05\n",
    "\n",
    "X = tf.placeholder(tf.float32, shape=(None, n_inputs), name=\"X\")\n",
    "y = tf.placeholder(tf.int32, shape=(None), name=\"y\")\n",
    "\n",
    "training = tf.placeholder_with_default(False, shape=(), name='training')\n",
    "\n",
    "with tf.name_scope(\"dnn\"):\n",
    "    he_init = tf.variance_scaling_initializer()\n",
    "\n",
    "    my_batch_norm_layer = partial(\n",
    "            tf.layers.batch_normalization,\n",
    "            training=training,\n",
    "            momentum=batch_norm_momentum)\n",
    "\n",
    "    my_dense_layer = partial(\n",
    "            tf.layers.dense,\n",
    "            kernel_initializer=he_init)\n",
    "\n",
    "    hidden1 = my_dense_layer(X, n_hidden1, name=\"hidden1\")\n",
    "    bn1 = tf.nn.relu(my_batch_norm_layer(hidden1))\n",
    "    hidden2 = my_dense_layer(bn1, n_hidden2, name=\"hidden2\")\n",
    "    bn2 = tf.nn.relu(my_batch_norm_layer(hidden2))\n",
    "    hidden3 = my_dense_layer(bn2, n_hidden3, name=\"hidden3\")\n",
    "    bn3 = tf.nn.relu(my_batch_norm_layer(hidden3))\n",
    "    \n",
    "    \n",
    "    \n",
    "    logits_before_bn = my_dense_layer(bn3, n_outputs, name=\"outputs\")\n",
    "    logits = my_batch_norm_layer(logits_before_bn)\n",
    "\n",
    "with tf.name_scope(\"loss\"):\n",
    "    xentropy = tf.nn.sparse_softmax_cross_entropy_with_logits(labels=y, logits=logits)\n",
    "    loss = tf.reduce_mean(xentropy, name=\"loss\")\n",
    "\n",
    "with tf.name_scope(\"train\"):\n",
    "    optimizer = tf.train.AdamOptimizer(learning_rate=learning_rate)\n",
    "    #optimizer = tf.train.GradientDescentOptimizer(learning_rate)\n",
    "    training_op = optimizer.minimize(loss)\n",
    "\n",
    "with tf.name_scope(\"eval\"):\n",
    "    correct = tf.nn.in_top_k(logits, y, 1)\n",
    "    accuracy = tf.reduce_mean(tf.cast(correct, tf.float32))\n",
    "    \n",
    "init = tf.global_variables_initializer()\n",
    "saver = tf.train.Saver()"
   ]
  },
  {
   "cell_type": "code",
   "execution_count": 30,
   "metadata": {},
   "outputs": [
    {
     "name": "stdout",
     "output_type": "stream",
     "text": [
      "(0, 'Validation accuracy:', 0.505359)\n",
      "(1, 'Validation accuracy:', 0.49951893)\n",
      "(2, 'Validation accuracy:', 0.5002482)\n",
      "(3, 'Validation accuracy:', 0.50255233)\n",
      "(4, 'Validation accuracy:', 0.50360024)\n"
     ]
    }
   ],
   "source": [
    "extra_update_ops = tf.get_collection(tf.GraphKeys.UPDATE_OPS)\n",
    "\n",
    "with tf.Session() as sess:\n",
    "    init.run()\n",
    "    for epoch in range(n_epochs):\n",
    "        for X_batch, y_batch in shuffle_batch(X_train, Y_train, batch_size):\n",
    "            sess.run([training_op, extra_update_ops],\n",
    "                     feed_dict={training: True, X: X_batch, y: y_batch})\n",
    "        accuracy_val = accuracy.eval(feed_dict={X: X_valid, y: Y_valid})\n",
    "        print(epoch, \"Validation accuracy:\", accuracy_val)"
   ]
  },
  {
   "cell_type": "markdown",
   "metadata": {},
   "source": [
    "#### Test 4\n",
    "- tuning batch_norm_momentum"
   ]
  },
  {
   "cell_type": "code",
   "execution_count": 31,
   "metadata": {},
   "outputs": [],
   "source": [
    "from functools import partial\n",
    "\n",
    "reset_graph()\n",
    "\n",
    "n_inputs = 33  # data\n",
    "n_hidden1 = 40\n",
    "n_hidden2 = 4\n",
    "n_hidden3 = 50\n",
    "n_outputs = 2\n",
    "\n",
    "n_epochs = 5\n",
    "batch_size = 32\n",
    "batch_norm_momentum = 0.99\n",
    "\n",
    "learning_rate = 0.01\n",
    "\n",
    "X = tf.placeholder(tf.float32, shape=(None, n_inputs), name=\"X\")\n",
    "y = tf.placeholder(tf.int32, shape=(None), name=\"y\")\n",
    "\n",
    "training = tf.placeholder_with_default(False, shape=(), name='training')\n",
    "\n",
    "with tf.name_scope(\"dnn\"):\n",
    "    he_init = tf.variance_scaling_initializer()\n",
    "\n",
    "    my_batch_norm_layer = partial(\n",
    "            tf.layers.batch_normalization,\n",
    "            training=training,\n",
    "            momentum=batch_norm_momentum)\n",
    "\n",
    "    my_dense_layer = partial(\n",
    "            tf.layers.dense,\n",
    "            kernel_initializer=he_init)\n",
    "\n",
    "    hidden1 = my_dense_layer(X, n_hidden1, name=\"hidden1\")\n",
    "    bn1 = tf.nn.relu(my_batch_norm_layer(hidden1))\n",
    "    hidden2 = my_dense_layer(bn1, n_hidden2, name=\"hidden2\")\n",
    "    bn2 = tf.nn.relu(my_batch_norm_layer(hidden2))\n",
    "    hidden3 = my_dense_layer(bn2, n_hidden3, name=\"hidden3\")\n",
    "    bn3 = tf.nn.relu(my_batch_norm_layer(hidden3))\n",
    "    \n",
    "    \n",
    "    \n",
    "    logits_before_bn = my_dense_layer(bn3, n_outputs, name=\"outputs\")\n",
    "    logits = my_batch_norm_layer(logits_before_bn)\n",
    "\n",
    "with tf.name_scope(\"loss\"):\n",
    "    xentropy = tf.nn.sparse_softmax_cross_entropy_with_logits(labels=y, logits=logits)\n",
    "    loss = tf.reduce_mean(xentropy, name=\"loss\")\n",
    "\n",
    "with tf.name_scope(\"train\"):\n",
    "    optimizer = tf.train.AdamOptimizer(learning_rate=learning_rate)\n",
    "    #optimizer = tf.train.GradientDescentOptimizer(learning_rate)\n",
    "    training_op = optimizer.minimize(loss)\n",
    "\n",
    "with tf.name_scope(\"eval\"):\n",
    "    correct = tf.nn.in_top_k(logits, y, 1)\n",
    "    accuracy = tf.reduce_mean(tf.cast(correct, tf.float32))\n",
    "    \n",
    "init = tf.global_variables_initializer()\n",
    "saver = tf.train.Saver()"
   ]
  },
  {
   "cell_type": "code",
   "execution_count": 32,
   "metadata": {},
   "outputs": [
    {
     "name": "stdout",
     "output_type": "stream",
     "text": [
      "(0, 'Validation accuracy:', 0.50477684)\n",
      "(1, 'Validation accuracy:', 0.50349605)\n",
      "(2, 'Validation accuracy:', 0.5055183)\n",
      "(3, 'Validation accuracy:', 0.5036738)\n",
      "(4, 'Validation accuracy:', 0.50614953)\n"
     ]
    }
   ],
   "source": [
    "extra_update_ops = tf.get_collection(tf.GraphKeys.UPDATE_OPS)\n",
    "\n",
    "with tf.Session() as sess:\n",
    "    init.run()\n",
    "    for epoch in range(n_epochs):\n",
    "        for X_batch, y_batch in shuffle_batch(X_train, Y_train, batch_size):\n",
    "            sess.run([training_op, extra_update_ops],\n",
    "                     feed_dict={training: True, X: X_batch, y: y_batch})\n",
    "        accuracy_val = accuracy.eval(feed_dict={X: X_valid, y: Y_valid})\n",
    "        print(epoch, \"Validation accuracy:\", accuracy_val)"
   ]
  },
  {
   "cell_type": "markdown",
   "metadata": {},
   "source": [
    "#### Test 5 \n",
    "- Tuning n_epochs"
   ]
  },
  {
   "cell_type": "code",
   "execution_count": 34,
   "metadata": {},
   "outputs": [],
   "source": [
    "from functools import partial\n",
    "\n",
    "reset_graph()\n",
    "\n",
    "n_inputs = 33  # data\n",
    "n_hidden1 = 40\n",
    "n_hidden2 = 4\n",
    "n_hidden3 = 50\n",
    "n_outputs = 2\n",
    "\n",
    "n_epochs = 20\n",
    "batch_size = 32\n",
    "batch_norm_momentum = 0.99\n",
    "\n",
    "learning_rate = 0.01\n",
    "\n",
    "X = tf.placeholder(tf.float32, shape=(None, n_inputs), name=\"X\")\n",
    "y = tf.placeholder(tf.int32, shape=(None), name=\"y\")\n",
    "\n",
    "training = tf.placeholder_with_default(False, shape=(), name='training')\n",
    "\n",
    "with tf.name_scope(\"dnn\"):\n",
    "    he_init = tf.variance_scaling_initializer()\n",
    "\n",
    "    my_batch_norm_layer = partial(\n",
    "            tf.layers.batch_normalization,\n",
    "            training=training,\n",
    "            momentum=batch_norm_momentum)\n",
    "\n",
    "    my_dense_layer = partial(\n",
    "            tf.layers.dense,\n",
    "            kernel_initializer=he_init)\n",
    "\n",
    "    hidden1 = my_dense_layer(X, n_hidden1, name=\"hidden1\")\n",
    "    bn1 = tf.nn.relu(my_batch_norm_layer(hidden1))\n",
    "    hidden2 = my_dense_layer(bn1, n_hidden2, name=\"hidden2\")\n",
    "    bn2 = tf.nn.relu(my_batch_norm_layer(hidden2))\n",
    "    hidden3 = my_dense_layer(bn2, n_hidden3, name=\"hidden3\")\n",
    "    bn3 = tf.nn.relu(my_batch_norm_layer(hidden3))\n",
    "    \n",
    "    \n",
    "    \n",
    "    logits_before_bn = my_dense_layer(bn3, n_outputs, name=\"outputs\")\n",
    "    logits = my_batch_norm_layer(logits_before_bn)\n",
    "\n",
    "with tf.name_scope(\"loss\"):\n",
    "    xentropy = tf.nn.sparse_softmax_cross_entropy_with_logits(labels=y, logits=logits)\n",
    "    loss = tf.reduce_mean(xentropy, name=\"loss\")\n",
    "\n",
    "with tf.name_scope(\"train\"):\n",
    "    optimizer = tf.train.AdamOptimizer(learning_rate=learning_rate)\n",
    "    #optimizer = tf.train.GradientDescentOptimizer(learning_rate)\n",
    "    training_op = optimizer.minimize(loss)\n",
    "\n",
    "with tf.name_scope(\"eval\"):\n",
    "    correct = tf.nn.in_top_k(logits, y, 1)\n",
    "    accuracy = tf.reduce_mean(tf.cast(correct, tf.float32))\n",
    "    \n",
    "init = tf.global_variables_initializer()\n",
    "saver = tf.train.Saver()"
   ]
  },
  {
   "cell_type": "code",
   "execution_count": 35,
   "metadata": {},
   "outputs": [
    {
     "name": "stdout",
     "output_type": "stream",
     "text": [
      "(0, 'Validation accuracy:', 0.50477684)\n",
      "(1, 'Validation accuracy:', 0.50349605)\n",
      "(2, 'Validation accuracy:', 0.5055183)\n",
      "(3, 'Validation accuracy:', 0.5036738)\n",
      "(4, 'Validation accuracy:', 0.50614953)\n",
      "(5, 'Validation accuracy:', 0.5050465)\n",
      "(6, 'Validation accuracy:', 0.5065356)\n",
      "(7, 'Validation accuracy:', 0.5026933)\n",
      "(8, 'Validation accuracy:', 0.50820243)\n",
      "(9, 'Validation accuracy:', 0.5040415)\n",
      "(10, 'Validation accuracy:', 0.5005239)\n",
      "(11, 'Validation accuracy:', 0.50395566)\n",
      "(12, 'Validation accuracy:', 0.50763255)\n",
      "(13, 'Validation accuracy:', 0.5031774)\n",
      "(14, 'Validation accuracy:', 0.50250334)\n",
      "(15, 'Validation accuracy:', 0.50472784)\n",
      "(16, 'Validation accuracy:', 0.5035696)\n",
      "(17, 'Validation accuracy:', 0.50048107)\n",
      "(18, 'Validation accuracy:', 0.50165766)\n",
      "(19, 'Validation accuracy:', 0.5051261)\n"
     ]
    }
   ],
   "source": [
    "extra_update_ops = tf.get_collection(tf.GraphKeys.UPDATE_OPS)\n",
    "\n",
    "with tf.Session() as sess:\n",
    "    init.run()\n",
    "    for epoch in range(n_epochs):\n",
    "        for X_batch, y_batch in shuffle_batch(X_train, Y_train, batch_size):\n",
    "            sess.run([training_op, extra_update_ops],\n",
    "                     feed_dict={training: True, X: X_batch, y: y_batch})\n",
    "        accuracy_val = accuracy.eval(feed_dict={X: X_valid, y: Y_valid})\n",
    "        print(epoch, \"Validation accuracy:\", accuracy_val)"
   ]
  },
  {
   "cell_type": "markdown",
   "metadata": {},
   "source": [
    "#### THE RESULT model"
   ]
  },
  {
   "cell_type": "code",
   "execution_count": 55,
   "metadata": {},
   "outputs": [],
   "source": [
    "from functools import partial\n",
    "\n",
    "reset_graph()\n",
    "\n",
    "n_inputs = 33  # data\n",
    "n_hidden1 = 40\n",
    "n_hidden2 = 4\n",
    "n_hidden3 = 50\n",
    "n_outputs = 2\n",
    "\n",
    "n_epochs = 5\n",
    "batch_size = 32\n",
    "batch_norm_momentum = 0.99\n",
    "\n",
    "learning_rate = 0.01\n",
    "\n",
    "\n",
    "\n",
    "\n",
    "X = tf.placeholder(tf.float32, shape=(None, n_inputs), name=\"X\")\n",
    "y = tf.placeholder(tf.int32, shape=(None), name=\"y\")\n",
    "\n",
    "training = tf.placeholder_with_default(False, shape=(), name='training')\n",
    "\n",
    "with tf.name_scope(\"dnn\"):\n",
    "    he_init = tf.variance_scaling_initializer()\n",
    "\n",
    "    my_batch_norm_layer = partial(\n",
    "            tf.layers.batch_normalization,\n",
    "            training=training,\n",
    "            momentum=batch_norm_momentum)\n",
    "\n",
    "    my_dense_layer = partial(\n",
    "            tf.layers.dense,\n",
    "            kernel_initializer=he_init)\n",
    "\n",
    "    hidden1 = my_dense_layer(X, n_hidden1, name=\"hidden1\")\n",
    "    bn1 = tf.nn.relu(my_batch_norm_layer(hidden1))\n",
    "    hidden2 = my_dense_layer(bn1, n_hidden2, name=\"hidden2\")\n",
    "    bn2 = tf.nn.relu(my_batch_norm_layer(hidden2))\n",
    "    hidden3 = my_dense_layer(bn2, n_hidden3, name=\"hidden3\")\n",
    "    bn3 = tf.nn.relu(my_batch_norm_layer(hidden3))\n",
    "    \n",
    "    \n",
    "    \n",
    "    logits_before_bn = my_dense_layer(bn3, n_outputs, name=\"outputs\")\n",
    "    logits = my_batch_norm_layer(logits_before_bn)\n",
    "\n",
    "with tf.name_scope(\"loss\"):\n",
    "    xentropy = tf.nn.sparse_softmax_cross_entropy_with_logits(labels=y, logits=logits)\n",
    "    loss = tf.reduce_mean(xentropy, name=\"loss\")\n",
    "\n",
    "with tf.name_scope(\"train\"):\n",
    "    optimizer = tf.train.AdamOptimizer(learning_rate=learning_rate)\n",
    "    #optimizer = tf.train.GradientDescentOptimizer(learning_rate)\n",
    "    training_op = optimizer.minimize(loss)\n",
    "\n",
    "with tf.name_scope(\"eval\"):\n",
    "    correct = tf.nn.in_top_k(logits, y, 1)\n",
    "    accuracy = tf.reduce_mean(tf.cast(correct, tf.float32))\n",
    "    \n",
    "init = tf.global_variables_initializer()\n",
    "saver = tf.train.Saver()"
   ]
  },
  {
   "cell_type": "code",
   "execution_count": 40,
   "metadata": {},
   "outputs": [
    {
     "name": "stdout",
     "output_type": "stream",
     "text": [
      "(0, 'Validation accuracy:', 0.50366765)\n",
      "(1, 'Validation accuracy:', 0.5039618)\n",
      "(2, 'Validation accuracy:', 0.5053222)\n",
      "(3, 'Validation accuracy:', 0.5064314)\n",
      "(4, 'Validation accuracy:', 0.50320804)\n"
     ]
    }
   ],
   "source": [
    "extra_update_ops = tf.get_collection(tf.GraphKeys.UPDATE_OPS)\n",
    "\n",
    "with tf.Session() as sess:\n",
    "    init.run()\n",
    "    for epoch in range(n_epochs):\n",
    "        for X_batch, y_batch in shuffle_batch(X_train, Y_train, batch_size):\n",
    "            sess.run([training_op, extra_update_ops],\n",
    "                     feed_dict={training: True, X: X_batch, y: y_batch})\n",
    "        accuracy_val = accuracy.eval(feed_dict={X: X_valid, y: Y_valid})\n",
    "        print(epoch, \"Validation accuracy:\", accuracy_val)\n",
    "    save_path = saver.save(sess, \"./my_model_final.ckpt\")"
   ]
  },
  {
   "cell_type": "code",
   "execution_count": 41,
   "metadata": {},
   "outputs": [
    {
     "name": "stdout",
     "output_type": "stream",
     "text": [
      "WARNING:tensorflow:From /Users/tonylin/anaconda2/lib/python2.7/site-packages/tensorflow/python/training/saver.py:1266: checkpoint_exists (from tensorflow.python.training.checkpoint_management) is deprecated and will be removed in a future version.\n",
      "Instructions for updating:\n",
      "Use standard file APIs to check for files with this prefix.\n",
      "INFO:tensorflow:Restoring parameters from ./my_model_final.ckpt\n"
     ]
    }
   ],
   "source": [
    "with tf.Session() as sess:\n",
    "    saver.restore(sess, \"./my_model_final.ckpt\") # or better, use save_path\n",
    "    X_new_scaled = X_test[:20]\n",
    "    Z = logits.eval(feed_dict={X: X_new_scaled})\n",
    "    y_pred = np.argmax(Z, axis=1)"
   ]
  },
  {
   "cell_type": "code",
   "execution_count": 43,
   "metadata": {},
   "outputs": [
    {
     "name": "stdout",
     "output_type": "stream",
     "text": [
      "('Predicted classes:', array([1, 1, 1, 0, 1, 0, 1, 1, 1, 0, 1, 0, 1, 1, 0, 1, 1, 0, 0, 0]))\n",
      "('Actual classes:   ', array([1., 1., 0., 0., 0., 0., 1., 1., 0., 0., 1., 0., 1., 0., 0., 0., 1.,\n",
      "       1., 1., 0.]))\n"
     ]
    }
   ],
   "source": [
    "print(\"Predicted classes:\", y_pred)\n",
    "print(\"Actual classes:   \", Y_test[:20])"
   ]
  },
  {
   "cell_type": "markdown",
   "metadata": {},
   "source": [
    "#### Train"
   ]
  },
  {
   "cell_type": "code",
   "execution_count": 82,
   "metadata": {},
   "outputs": [
    {
     "name": "stdout",
     "output_type": "stream",
     "text": [
      "(0, 'Validation accuracy:', 0.5028465)\n",
      "(1, 'Validation accuracy:', 0.5142325)\n",
      "(2, 'Validation accuracy:', 0.5126698)\n",
      "(3, 'Validation accuracy:', 0.49926156)\n",
      "(4, 'Validation accuracy:', 0.50687265)\n",
      "INFO:tensorflow:Restoring parameters from ./my_model_final.ckpt\n",
      "result_2012\n"
     ]
    }
   ],
   "source": [
    "for i in range (2012,2013):\n",
    "    train=data[(data.date<=int(str(i)+'1231'))&(data.date>=int(str(i-4)+'0101'))]\n",
    "    train=train.dropna()\n",
    "    train.index=range(len(train))\n",
    "    #globals()['train_{}'.format(i)]=train.copy()\n",
    "    \n",
    "    test=data[(data.date<=int(str(i+1)+'1231'))&(data.date>=int(str(i+1)+'0101'))]\n",
    "    test=test.dropna()\n",
    "    test.index=range(len(test))\n",
    "    #globals()['test_{}'.format(i)]=test.copy() \n",
    "    \n",
    "    X_train=np.asarray(train.loc[:,'ret_raw_norm_lag_21':'isJan'])\n",
    "    Y_train=np.asarray(train.loc[:,'target'])\n",
    "    \n",
    "    X_test=np.asarray(test.loc[:,'ret_raw_norm_lag_21':'isJan'])\n",
    "    Y_test=np.asarray(test.loc[:,'target'])\n",
    "    \n",
    "    \n",
    "    extra_update_ops = tf.get_collection(tf.GraphKeys.UPDATE_OPS)\n",
    "\n",
    "    with tf.Session() as sess:\n",
    "        init.run()\n",
    "        for epoch in range(n_epochs):\n",
    "            for X_batch, y_batch in shuffle_batch(X_train, Y_train, batch_size):\n",
    "                sess.run([training_op, extra_update_ops],\n",
    "                         feed_dict={training: True, X: X_batch, y: y_batch})\n",
    "            accuracy_val = accuracy.eval(feed_dict={X: X_valid, y: Y_valid})\n",
    "            print(epoch, \"Validation accuracy:\", accuracy_val)\n",
    "        save_path = saver.save(sess, \"./my_model_final.ckpt\")\n",
    "    \n",
    "    #clf=DecisionTreeClassifier(criterion='gini', max_features='log2', max_depth=5)\n",
    "    #clf.fit(X_train, Y_train)\n",
    "    \n",
    "    with tf.Session() as sess:\n",
    "        saver.restore(sess, \"./my_model_final.ckpt\") # or better, use save_path\n",
    "        X_new_scaled = X_train\n",
    "        Z = logits.eval(feed_dict={X: X_new_scaled})\n",
    "        y_predit_prob=softmax(Z,1) \n",
    "    \n",
    "\n",
    "    res=pd.concat((train.loc[:,['id','date','target']], pd.DataFrame(y_predit_prob)),axis=1) \n",
    "    res.columns=[\"id\",\"date\",'target',\"pred_zsprob_comp\",\"Alp\"]\n",
    "    res.index=range(len(res))\n",
    "    globals()[\"result_{}\".format(i)]=res.copy()\n",
    "    print(\"result_{}\".format(i))"
   ]
  },
  {
   "cell_type": "code",
   "execution_count": 77,
   "metadata": {},
   "outputs": [
    {
     "name": "stdout",
     "output_type": "stream",
     "text": [
      "(0, 'Validation accuracy:', 0.50739354)\n",
      "(1, 'Validation accuracy:', 0.5146308)\n",
      "(2, 'Validation accuracy:', 0.51001024)\n",
      "(3, 'Validation accuracy:', 0.51885307)\n",
      "(4, 'Validation accuracy:', 0.5166163)\n",
      "INFO:tensorflow:Restoring parameters from ./my_model_final.ckpt\n",
      "result_2013\n",
      "(0, 'Validation accuracy:', 0.5125657)\n",
      "(1, 'Validation accuracy:', 0.5114013)\n",
      "(2, 'Validation accuracy:', 0.5081963)\n",
      "(3, 'Validation accuracy:', 0.50538355)\n",
      "(4, 'Validation accuracy:', 0.5112297)\n",
      "INFO:tensorflow:Restoring parameters from ./my_model_final.ckpt\n",
      "result_2014\n",
      "(0, 'Validation accuracy:', 0.5074671)\n",
      "(1, 'Validation accuracy:', 0.5106721)\n",
      "(2, 'Validation accuracy:', 0.5091952)\n",
      "(3, 'Validation accuracy:', 0.5102431)\n",
      "(4, 'Validation accuracy:', 0.5161322)\n",
      "INFO:tensorflow:Restoring parameters from ./my_model_final.ckpt\n",
      "result_2015\n",
      "(0, 'Validation accuracy:', 0.49961698)\n",
      "(1, 'Validation accuracy:', 0.50388217)\n",
      "(2, 'Validation accuracy:', 0.5051629)\n",
      "(3, 'Validation accuracy:', 0.5084598)\n",
      "(4, 'Validation accuracy:', 0.50567156)\n",
      "INFO:tensorflow:Restoring parameters from ./my_model_final.ckpt\n",
      "result_2016\n",
      "(0, 'Validation accuracy:', 0.505598)\n",
      "(1, 'Validation accuracy:', 0.5079512)\n",
      "(2, 'Validation accuracy:', 0.50211114)\n",
      "(3, 'Validation accuracy:', 0.50306714)\n",
      "(4, 'Validation accuracy:', 0.49845877)\n",
      "INFO:tensorflow:Restoring parameters from ./my_model_final.ckpt\n",
      "result_2017\n"
     ]
    }
   ],
   "source": [
    "for i in range (2012,2017):\n",
    "    train=data[(data.date<=int(str(i)+'1231'))&(data.date>=int(str(i-4)+'0101'))]\n",
    "    train=train.dropna()\n",
    "    train.index=range(len(train))\n",
    "    #globals()['train_{}'.format(i)]=train.copy()\n",
    "    \n",
    "    test=data[(data.date<=int(str(i+1)+'1231'))&(data.date>=int(str(i+1)+'0101'))]\n",
    "    test=test.dropna()\n",
    "    test.index=range(len(test))\n",
    "    #globals()['test_{}'.format(i)]=test.copy() \n",
    "    \n",
    "    X_train=np.asarray(train.loc[:,'ret_raw_norm_lag_21':'isJan'])\n",
    "    Y_train=np.asarray(train.loc[:,'target'])\n",
    "    \n",
    "    X_test=np.asarray(test.loc[:,'ret_raw_norm_lag_21':'isJan'])\n",
    "    Y_test=np.asarray(test.loc[:,'target'])\n",
    "    \n",
    "    extra_update_ops = tf.get_collection(tf.GraphKeys.UPDATE_OPS)\n",
    "\n",
    "    with tf.Session() as sess:\n",
    "        init.run()\n",
    "        for epoch in range(n_epochs):\n",
    "            for X_batch, y_batch in shuffle_batch(X_train, Y_train, batch_size):\n",
    "                sess.run([training_op, extra_update_ops],\n",
    "                         feed_dict={training: True, X: X_batch, y: y_batch})\n",
    "            accuracy_val = accuracy.eval(feed_dict={X: X_valid, y: Y_valid})\n",
    "            print(epoch, \"Validation accuracy:\", accuracy_val)\n",
    "        save_path = saver.save(sess, \"./my_model_final.ckpt\")\n",
    "    \n",
    "    #clf=DecisionTreeClassifier(criterion='gini', max_features='log2', max_depth=5)\n",
    "    #clf.fit(X_train, Y_train)\n",
    "    \n",
    "    with tf.Session() as sess:\n",
    "        saver.restore(sess, \"./my_model_final.ckpt\") # or better, use save_path\n",
    "        X_new_scaled = X_test\n",
    "        Z = logits.eval(feed_dict={X: X_new_scaled})\n",
    "        y_predit_prob=softmax(Z,1)\n",
    "    \n",
    "    res=pd.concat((test.loc[:,['id','date','target']], pd.DataFrame(y_predit_prob)),axis=1)\n",
    "    res.columns=[\"id\",\"date\",'target',\"pred_zsprob_comp\",\"Alp\"]\n",
    "    res.index=range(len(res))\n",
    "    globals()[\"result_{}\".format(i+1)]=res.copy()\n",
    "    print(\"result_{}\".format(i+1))"
   ]
  },
  {
   "cell_type": "code",
   "execution_count": 83,
   "metadata": {},
   "outputs": [],
   "source": [
    "RES=result_2012\n",
    "for i in range(2013,2018):\n",
    "    RES=pd.concat((RES,globals()[\"result_{}\".format(i)]),axis=0)\n",
    "\n",
    "tt=RES.merge(data.loc[:,[\"id\",\"date\",\"ret_raw\",\"ret_20_raw\",\"industry\",\"flag2\"]],left_on=[\"date\",\"id\"],right_on=[\"date\",\"id\"],how=\"left\")"
   ]
  },
  {
   "cell_type": "markdown",
   "metadata": {},
   "source": [
    "### Back Test Framework\n",
    "\n",
    "To use this back-test framework, input a dataframe with date, alpha, ret=ret_20_raw, flag as your holding period, and keep the quantile cut at q=0.9."
   ]
  },
  {
   "cell_type": "code",
   "execution_count": 79,
   "metadata": {},
   "outputs": [],
   "source": [
    "def back_test(data,q=0.9,Alp=\"Alpha\",flag=\"flag\",date=\"date\",ret=\"ret_raw\",industry=\"industry\",Id=\"id\"):\n",
    "    data=data[data.id!='GGP US Equity']\n",
    "    data=data[data.industry!=7777]\n",
    "    data=data[data.loc[:,flag]==True]\n",
    "    data=data.loc[:,[date,Id,Alp,ret,industry]]\n",
    "    data.columns=[\"Date\",\"Id\",\"Alp\",\"Return\",\"industry\"]\n",
    "    data.index=range(len(data))\n",
    "    res=data.groupby((\"Date\")).apply(lambda x: x[x[\"Alp\"]>=x[\"Alp\"].quantile(q)].Return.mean()*0.5-\n",
    "                          x[x[\"Alp\"]<=x[\"Alp\"].quantile(1-q)].Return.mean()*0.5)\n",
    "    positions=data.groupby((\"Date\")).apply(lambda x: x[(x[\"Alp\"]>=x[\"Alp\"].quantile(q))|(x[\"Alp\"]<=x[\"Alp\"].quantile(1-q))])\n",
    "\n",
    "    long=data.groupby((\"Date\")).apply(lambda x: x[(x[\"Alp\"]>=x[\"Alp\"].quantile(q))])\n",
    "    short=data.groupby((\"Date\")).apply(lambda x: x[(x[\"Alp\"]<=x[\"Alp\"].quantile(1-q))])\n",
    "    res=res.reset_index()\n",
    "    res=res.dropna()\n",
    "    res.index=range(len(res))\n",
    "\n",
    "    globals()[\"res\"]=res\n",
    "    plt.figure(figsize=(20,10))\n",
    "    plt.plot((res.iloc[:,-1]).cumsum())\n",
    "\n",
    "    n=int(len(res)/30)+1\n",
    "    plt.xticks(range(0,len(res),n),\n",
    "               [str(res.loc[i,\"Date\"]).split(\" \")[0] for i in range(0,len(res),n)],\n",
    "               rotation=70,\n",
    "              fontsize = 20)\n",
    "    plt.yticks(fontsize=30)\n",
    "    plt.axvline(x=len(res[res.Date<20121231]), c=\"r\")\n",
    "\n",
    "    plt.show()   \n",
    "    return long,short,res"
   ]
  },
  {
   "cell_type": "markdown",
   "metadata": {},
   "source": [
    "#### Compute Yearly Return and Sharpe Ratio"
   ]
  },
  {
   "cell_type": "code",
   "execution_count": 80,
   "metadata": {},
   "outputs": [],
   "source": [
    "def summary_return_sharpe(res,period):\n",
    "    res.loc[:,\"year\"]=(res.Date/10000).apply(int)\n",
    "    Ret=res.groupby(\"year\")[0].sum().reset_index()\n",
    "    Y10T=0.021\n",
    "    n=int(253/period)\n",
    "    Fday=(Y10T+1)**(1/n)-1\n",
    "    Sharpe=res.groupby(\"year\")[0].apply(lambda x: (x).mean()/((x).std())*np.sqrt(n)).reset_index()\n",
    "    Performance=Ret.merge(Sharpe,left_on=\"year\",right_on=\"year\",how=\"left\")\n",
    "    Performance.columns=[\"Year\",\"Return\",\"Sharpe\"]\n",
    "    return Performance"
   ]
  },
  {
   "cell_type": "markdown",
   "metadata": {},
   "source": [
    "### DL Result"
   ]
  },
  {
   "cell_type": "code",
   "execution_count": 84,
   "metadata": {},
   "outputs": [
    {
     "data": {
      "image/png": "[encoded data removed]",
      "text/plain": [
       "<Figure size 1440x720 with 1 Axes>"
      ]
     },
     "metadata": {
      "needs_background": "light"
     },
     "output_type": "display_data"
    },
    {
     "data": {
      "text/html": [
       "<div>\n",
       "<style scoped>\n",
       "    .dataframe tbody tr th:only-of-type {\n",
       "        vertical-align: middle;\n",
       "    }\n",
       "\n",
       "    .dataframe tbody tr th {\n",
       "        vertical-align: top;\n",
       "    }\n",
       "\n",
       "    .dataframe thead th {\n",
       "        text-align: right;\n",
       "    }\n",
       "</style>\n",
       "<table border=\"1\" class=\"dataframe\">\n",
       "  <thead>\n",
       "    <tr style=\"text-align: right;\">\n",
       "      <th></th>\n",
       "      <th>Year</th>\n",
       "      <th>Return</th>\n",
       "      <th>Sharpe</th>\n",
       "    </tr>\n",
       "  </thead>\n",
       "  <tbody>\n",
       "    <tr>\n",
       "      <th>0</th>\n",
       "      <td>2008</td>\n",
       "      <td>0.063239</td>\n",
       "      <td>1.468517</td>\n",
       "    </tr>\n",
       "    <tr>\n",
       "      <th>1</th>\n",
       "      <td>2009</td>\n",
       "      <td>0.331849</td>\n",
       "      <td>4.472902</td>\n",
       "    </tr>\n",
       "    <tr>\n",
       "      <th>2</th>\n",
       "      <td>2010</td>\n",
       "      <td>0.177063</td>\n",
       "      <td>2.491515</td>\n",
       "    </tr>\n",
       "    <tr>\n",
       "      <th>3</th>\n",
       "      <td>2011</td>\n",
       "      <td>0.089219</td>\n",
       "      <td>3.086127</td>\n",
       "    </tr>\n",
       "    <tr>\n",
       "      <th>4</th>\n",
       "      <td>2012</td>\n",
       "      <td>0.070403</td>\n",
       "      <td>2.408000</td>\n",
       "    </tr>\n",
       "    <tr>\n",
       "      <th>5</th>\n",
       "      <td>2013</td>\n",
       "      <td>0.050153</td>\n",
       "      <td>0.759244</td>\n",
       "    </tr>\n",
       "    <tr>\n",
       "      <th>6</th>\n",
       "      <td>2014</td>\n",
       "      <td>0.120306</td>\n",
       "      <td>2.220756</td>\n",
       "    </tr>\n",
       "    <tr>\n",
       "      <th>7</th>\n",
       "      <td>2015</td>\n",
       "      <td>0.066370</td>\n",
       "      <td>2.870436</td>\n",
       "    </tr>\n",
       "    <tr>\n",
       "      <th>8</th>\n",
       "      <td>2016</td>\n",
       "      <td>-0.003577</td>\n",
       "      <td>-0.106920</td>\n",
       "    </tr>\n",
       "    <tr>\n",
       "      <th>9</th>\n",
       "      <td>2017</td>\n",
       "      <td>0.005586</td>\n",
       "      <td>0.572646</td>\n",
       "    </tr>\n",
       "  </tbody>\n",
       "</table>\n",
       "</div>"
      ],
      "text/plain": [
       "   Year    Return    Sharpe\n",
       "0  2008  0.063239  1.468517\n",
       "1  2009  0.331849  4.472902\n",
       "2  2010  0.177063  2.491515\n",
       "3  2011  0.089219  3.086127\n",
       "4  2012  0.070403  2.408000\n",
       "5  2013  0.050153  0.759244\n",
       "6  2014  0.120306  2.220756\n",
       "7  2015  0.066370  2.870436\n",
       "8  2016 -0.003577 -0.106920\n",
       "9  2017  0.005586  0.572646"
      ]
     },
     "execution_count": 84,
     "metadata": {},
     "output_type": "execute_result"
    }
   ],
   "source": [
    "a3=back_test(tt,q=0.90,flag=\"flag2\",ret=\"ret_20_raw\",Alp=\"Alp\")\n",
    "summary_return_sharpe(a3[2],12)"
   ]
  },
  {
   "cell_type": "code",
   "execution_count": null,
   "metadata": {},
   "outputs": [],
   "source": []
  }
 ],
 "metadata": {
  "kernelspec": {
   "display_name": "Python 2",
   "language": "python",
   "name": "python2"
  },
  "language_info": {
   "codemirror_mode": {
    "name": "ipython",
    "version": 2
   },
   "file_extension": ".py",
   "mimetype": "text/x-python",
   "name": "python",
   "nbconvert_exporter": "python",
   "pygments_lexer": "ipython2",
   "version": "2.7.15"
  }
 },
 "nbformat": 4,
 "nbformat_minor": 2
}
